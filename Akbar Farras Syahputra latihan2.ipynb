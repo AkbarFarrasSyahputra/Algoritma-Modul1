{
 "cells": [
  {
   "cell_type": "code",
   "execution_count": 1,
   "id": "0244cd43-94fa-4d43-b67e-d7a23bea99ce",
   "metadata": {},
   "outputs": [
    {
     "name": "stdout",
     "output_type": "stream",
     "text": [
      "hitung luas ruangan:\n"
     ]
    },
    {
     "name": "stdin",
     "output_type": "stream",
     "text": [
      "panjang: 20\n",
      "lebar: 10\n",
      "cm/m: m\n"
     ]
    },
    {
     "name": "stdout",
     "output_type": "stream",
     "text": [
      "hasilnya adalah: 200.0 m\n"
     ]
    }
   ],
   "source": [
    "print(\"hitung luas ruangan:\")\n",
    "panjang = float(input(\"panjang:\"))\n",
    "lebar = float(input(\"lebar:\"))\n",
    "satuan = input(\"cm/m:\")\n",
    "a = panjang*lebar\n",
    "print(\"hasilnya adalah:\",a,satuan)"
   ]
  },
  {
   "cell_type": "code",
   "execution_count": null,
   "id": "ef3ae6dd-2266-4d3e-8de7-d3f54744f53a",
   "metadata": {},
   "outputs": [],
   "source": []
  }
 ],
 "metadata": {
  "kernelspec": {
   "display_name": "Python 3 (ipykernel)",
   "language": "python",
   "name": "python3"
  },
  "language_info": {
   "codemirror_mode": {
    "name": "ipython",
    "version": 3
   },
   "file_extension": ".py",
   "mimetype": "text/x-python",
   "name": "python",
   "nbconvert_exporter": "python",
   "pygments_lexer": "ipython3",
   "version": "3.12.4"
  }
 },
 "nbformat": 4,
 "nbformat_minor": 5
}
