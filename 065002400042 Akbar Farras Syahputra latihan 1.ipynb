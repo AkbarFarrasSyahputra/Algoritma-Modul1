{
 "cells": [
  {
   "cell_type": "code",
   "execution_count": 1,
   "id": "e89b8ea6-b4d2-4cad-9eb4-dd96bffc9131",
   "metadata": {},
   "outputs": [
    {
     "name": "stdin",
     "output_type": "stream",
     "text": [
      " nama kamu:  Akbar Farras\n"
     ]
    },
    {
     "name": "stdout",
     "output_type": "stream",
     "text": [
      "halo Akbar Farras\n"
     ]
    },
    {
     "name": "stdin",
     "output_type": "stream",
     "text": [
      "dari mana kamu? Depok\n"
     ]
    },
    {
     "name": "stdout",
     "output_type": "stream",
     "text": [
      "oh kamu dari Depok\n"
     ]
    },
    {
     "name": "stdin",
     "output_type": "stream",
     "text": [
      "dari sekolah mana? Sman 1 Ciseeng\n"
     ]
    },
    {
     "name": "stdout",
     "output_type": "stream",
     "text": [
      " dariii Sman 1 Ciseeng\n"
     ]
    }
   ],
   "source": [
    "nama = input(\" nama kamu: \")\n",
    "print (\"halo \"+nama)\n",
    "Asal = input(\"dari mana kamu?\")\n",
    "print (\"oh kamu dari \"+Asal)\n",
    "Sekolah = input (\"dari sekolah mana?\")\n",
    "print (\" dariii \"+Sekolah)"
   ]
  },
  {
   "cell_type": "code",
   "execution_count": null,
   "id": "5fb6d6ae-c392-4126-9ed0-90ce84e6c072",
   "metadata": {},
   "outputs": [],
   "source": []
  }
 ],
 "metadata": {
  "kernelspec": {
   "display_name": "Python 3 (ipykernel)",
   "language": "python",
   "name": "python3"
  },
  "language_info": {
   "codemirror_mode": {
    "name": "ipython",
    "version": 3
   },
   "file_extension": ".py",
   "mimetype": "text/x-python",
   "name": "python",
   "nbconvert_exporter": "python",
   "pygments_lexer": "ipython3",
   "version": "3.12.4"
  }
 },
 "nbformat": 4,
 "nbformat_minor": 5
}
